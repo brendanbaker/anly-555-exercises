{
 "cells": [
  {
   "cell_type": "markdown",
   "metadata": {},
   "source": [
    "## Discussion 1\n",
    "#### Brendan Baker\n",
    "The value of pi can be estimated using the following infinite series:\n",
    "\n",
    "pi/4 = 1 - 1/3 + 1/5 - 1/7 ... \n",
    "\n",
    " \n",
    "\n",
    "1) Write a Python function computePi4(numTerms) that computes this estimate up to iteration numTerms.\n",
    "2) Try the above using comprehension syntax . \n",
    "3) A sequence is a list of objects. Using numTerms as the maximum index into a sequence, one can use computePi4 to compute a sequence to estimate pi/4, where each new number in the sequence is an estimate of pi/4 that \"more closely\" approaches to the actual value. Write a generator function in Python that generates this sequence using a yield statement (for delayed evaluation).  This is similar to #1 except you will be using a yield statement. "
   ]
  },
  {
   "cell_type": "code",
   "execution_count": 17,
   "metadata": {},
   "outputs": [
    {
     "name": "stdout",
     "output_type": "stream",
     "text": [
      "0.7851481634599485 3.140592653839794\n"
     ]
    }
   ],
   "source": [
    "# Question 1\n",
    "\n",
    "# Create function that computes pi/4 given argument number of terms\n",
    "# These functions assume that the first term is 1\n",
    "\n",
    "def computePi4(numTerms):\n",
    "    # Assign number of iterations\n",
    "    n = numTerms\n",
    "    \n",
    "    # Loop to compute number of iterations\n",
    "    pi4 = 1\n",
    "    \n",
    "    # Only use the pattern if n>1\n",
    "    if n > 1:\n",
    "        denom = 3 # Start with the denominator as 3\n",
    "        for i in range(1, n):\n",
    "            if i%2 == 1: # If the loop number is odd, subtract the fraction\n",
    "                pi4 = pi4 - 1/denom # Subtract the fraction\n",
    "                denom += 2 # Add 2 to the denominator\n",
    "            else: # If the loop number is even\n",
    "                pi4 = pi4 + 1/denom # Add the fraction\n",
    "                denom += 2 # Add 2 to the denominator\n",
    "    \n",
    "    return pi4 # Multiply by 4 to get pi\n",
    "\n",
    "print(computePi4(1000), computePi4(1000)*4)\n",
    "    "
   ]
  },
  {
   "cell_type": "code",
   "execution_count": 18,
   "metadata": {},
   "outputs": [
    {
     "name": "stdout",
     "output_type": "stream",
     "text": [
      "0.7851481634599481 3.1405926538397924\n"
     ]
    }
   ],
   "source": [
    "# Question 2\n",
    "\n",
    "# Try the above using comprehension syntax\n",
    "\n",
    "def computePi4(numTerms):\n",
    "    # Assign number of iterations\n",
    "    n = numTerms\n",
    "    \n",
    "    # Loop to compute number of iterations\n",
    "    pi4 = 1\n",
    "    \n",
    "    # Only use the pattern if n>1\n",
    "    if n > 1:\n",
    "        vals = [1/x for x in range(3,n*2,2)] # Get the fraction values given the number of terms\n",
    "        signs = [-i if  x%2==0 else i for x, i in enumerate(vals)] # Makes every other value negative\n",
    "        pi4 = pi4 + sum(signs) # Add 1 to the sum of the fractions\n",
    "        \n",
    "    \n",
    "    return pi4 # Multiply by 4 for the estimate\n",
    "\n",
    "print(computePi4(1000), computePi4(1000)*4)"
   ]
  },
  {
   "cell_type": "code",
   "execution_count": 19,
   "metadata": {},
   "outputs": [
    {
     "name": "stdout",
     "output_type": "stream",
     "text": [
      "0.6666666666666667\n",
      "0.8666666666666667\n",
      "0.7238095238095239\n",
      "0.8349206349206351\n",
      "0.7440115440115441\n",
      "0.8209346209346211\n",
      "0.7542679542679545\n",
      "0.8130914836797192\n",
      "0.7604599047323508\n",
      "0.8080789523513985\n",
      "0.7646006914818333\n",
      "0.8046006914818333\n",
      "0.7675636544447964\n",
      "0.802046413065486\n",
      "0.769788348549357\n",
      "0.8000913788523872\n",
      "0.7715199502809587\n",
      "0.7985469773079856\n",
      "0.77290595166696\n",
      "0.797296195569399\n",
      "0.7740403816159106\n",
      "0.7962626038381329\n",
      "0.774986008093452\n",
      "0.7953941713587581\n"
     ]
    }
   ],
   "source": [
    "# Question 3\n",
    "\n",
    "# Create a generator that is similar to function 1\n",
    "def computePi4(numTerms):\n",
    "    # Assign number of iterations\n",
    "    n = numTerms\n",
    "    \n",
    "    # Loop to compute number of iterations\n",
    "    pi4 = 1\n",
    "    \n",
    "    # Only use the pattern if n>1\n",
    "    if n > 1:\n",
    "        denom = 3 # Start with the denominator as 3\n",
    "        for i in range(1, n):\n",
    "            if i%2 == 1: # If the loop number is odd, subtract the fraction\n",
    "                pi4 = pi4 - 1/denom # Subtract the fraction\n",
    "                denom += 2 # Add 2 to the denominator\n",
    "                yield pi4 # Multiply by 4 to get pi - yield statement in the loop generates a value each iteration\n",
    "            else: # If the loop number is even\n",
    "                pi4 = pi4 + 1/denom # Add the fraction\n",
    "                denom += 2 # Add 2 to the denominator\n",
    "                yield pi4 # Multiply by 4 to get pi - Yield statement in the loop generates a value each iteration\n",
    "    \n",
    "    \n",
    "    \n",
    "\n",
    "# Try the first 25 terms in the generator\n",
    "for pi in computePi4(25):\n",
    "    print(pi)"
   ]
  }
 ],
 "metadata": {
  "kernelspec": {
   "display_name": "Python 3.9.12 ('base')",
   "language": "python",
   "name": "python3"
  },
  "language_info": {
   "codemirror_mode": {
    "name": "ipython",
    "version": 3
   },
   "file_extension": ".py",
   "mimetype": "text/x-python",
   "name": "python",
   "nbconvert_exporter": "python",
   "pygments_lexer": "ipython3",
   "version": "3.9.12"
  },
  "orig_nbformat": 4,
  "vscode": {
   "interpreter": {
    "hash": "c0045bf7684ba8ed4099b9d5ef64ef2327314ce549e88573521977b8d47a7a3c"
   }
  }
 },
 "nbformat": 4,
 "nbformat_minor": 2
}
